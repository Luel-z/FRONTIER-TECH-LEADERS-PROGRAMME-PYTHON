{
  "nbformat": 4,
  "nbformat_minor": 0,
  "metadata": {
    "colab": {
      "provenance": [],
      "authorship_tag": "ABX9TyOtUQ3pwSzl9xABSMk/aMGr",
      "include_colab_link": true
    },
    "kernelspec": {
      "name": "python3",
      "display_name": "Python 3"
    },
    "language_info": {
      "name": "python"
    }
  },
  "cells": [
    {
      "cell_type": "markdown",
      "metadata": {
        "id": "view-in-github",
        "colab_type": "text"
      },
      "source": [
        "<a href=\"https://colab.research.google.com/github/Luel-z/FRONTIER-TECH-LEADERS-PROGRAMME-PYTHON/blob/main/FRONTIER_TECH_LEADERS_PROGRAMME_PYTHON.ipynb\" target=\"_parent\"><img src=\"https://colab.research.google.com/assets/colab-badge.svg\" alt=\"Open In Colab\"/></a>"
      ]
    },
    {
      "cell_type": "markdown",
      "source": [
        "**Luel Fekadu**"
      ],
      "metadata": {
        "id": "R3JsE2LkI9RQ"
      }
    },
    {
      "cell_type": "markdown",
      "source": [
        "**BMI Calculator and Health Assessment**"
      ],
      "metadata": {
        "id": "wYvZoCCwljA4"
      }
    },
    {
      "cell_type": "code",
      "execution_count": 9,
      "metadata": {
        "colab": {
          "base_uri": "https://localhost:8080/"
        },
        "id": "k5HumQb5iuOY",
        "outputId": "c888afb2-f3b0-404c-fdd2-c0d0a6dd8bcd"
      },
      "outputs": [
        {
          "output_type": "stream",
          "name": "stdout",
          "text": [
            "BMI Calculator and Health Assessment\n",
            "Enter your weight in kilograms: 55\n",
            "Enter your height in meters: 1.73\n",
            "\n",
            "Your BMI is 18.38. You have a Underweight.\n"
          ]
        }
      ],
      "source": [
        "def main():\n",
        "    print(\"BMI Calculator and Health Assessment\")\n",
        "\n",
        "    for _ in range(5):\n",
        "        try:\n",
        "            weight = float(input(\"Enter your weight in kilograms: \"))\n",
        "            if weight <= 0:\n",
        "                print(\"Error: Weight must be greater than zero. Try again.\")\n",
        "                continue\n",
        "\n",
        "            height = float(input(\"Enter your height in meters: \"))\n",
        "            if height <= 0:\n",
        "                print(\"Error: Height must be greater than zero. Try again.\")\n",
        "                continue\n",
        "\n",
        "            bmi = weight / (height ** 2)\n",
        "\n",
        "            if bmi < 18.5:\n",
        "                category = \"Underweight\"\n",
        "            elif 18.5 <= bmi <= 24.9:\n",
        "                category = \"Normal weight\"\n",
        "            elif 25 <= bmi <= 29.9:\n",
        "                category = \"Overweight\"\n",
        "            else:\n",
        "                category = \"Obesity\"\n",
        "\n",
        "            print(f\"\\nYour BMI is {bmi:.2f}. You have a {category}.\")\n",
        "            return\n",
        "        except ValueError:\n",
        "            print(\"Error: Please enter a valid number.\")\n",
        "\n",
        "    print(\"Too many invalid attempts. Exiting program.\")\n",
        "main()"
      ]
    },
    {
      "cell_type": "markdown",
      "source": [
        "**Palindrome**"
      ],
      "metadata": {
        "id": "iLlf7Hgwl5yO"
      }
    },
    {
      "cell_type": "code",
      "source": [
        "import re\n",
        "\n",
        "def clean_string(input_string: str) -> str:\n",
        "    return re.sub(r'[^a-zA-Z0-9]', '', input_string).lower()\n",
        "\n",
        "def is_palindrome_for(input_string: str) -> bool:\n",
        "    cleaned = clean_string(input_string)\n",
        "    length = len(cleaned)\n",
        "\n",
        "    for i in range(length // 2):\n",
        "        if cleaned[i] != cleaned[length - i - 1]:\n",
        "            return False\n",
        "    return True\n",
        "\n",
        "sample_inputs = [\n",
        "    \"A man, a plan, a canal, Panama\",\n",
        "    \"No 'x' in Nixon\",\n",
        "    \"hello\",\n",
        "    \"Was it a car or a cat I saw?\"\n",
        "]\n",
        "\n",
        "for test in sample_inputs:\n",
        "    print(f\"Testing: {test}\")\n",
        "    print(f\"For loop: {is_palindrome_for(test)}\")\n",
        "    print(\"-\")\n"
      ],
      "metadata": {
        "colab": {
          "base_uri": "https://localhost:8080/"
        },
        "id": "F3ZwR8mMl9_2",
        "outputId": "eeb73bb3-ce9f-44c4-8926-4e38c4206daf"
      },
      "execution_count": 2,
      "outputs": [
        {
          "output_type": "stream",
          "name": "stdout",
          "text": [
            "Testing: A man, a plan, a canal, Panama\n",
            "For loop: True\n",
            "-\n",
            "Testing: No 'x' in Nixon\n",
            "For loop: True\n",
            "-\n",
            "Testing: hello\n",
            "For loop: False\n",
            "-\n",
            "Testing: Was it a car or a cat I saw?\n",
            "For loop: True\n",
            "-\n"
          ]
        }
      ]
    },
    {
      "cell_type": "markdown",
      "source": [
        "**Treasure hunt game**"
      ],
      "metadata": {
        "id": "edECeuI387tn"
      }
    },
    {
      "cell_type": "code",
      "source": [
        "def create_board(rows: int, cols: int) -> list:\n",
        "    return [['*' for _ in range(cols)] for _ in range(rows)]\n",
        "\n",
        "def display_board(board: list):\n",
        "    for row in board:\n",
        "        print(' '.join(row))\n",
        "\n",
        "def get_valid_position(rows: int, cols: int) -> tuple:\n",
        "    while True:\n",
        "        try:\n",
        "            row = int(input(f\"Enter the row (0 to {rows - 1}): \"))\n",
        "            col = int(input(f\"Enter the column (0 to {cols - 1}): \"))\n",
        "            if 0 <= row < rows and 0 <= col < cols:\n",
        "                return row, col\n",
        "            else:\n",
        "                print(\"Error: Position out of bounds. Try again.\")\n",
        "        except ValueError:\n",
        "            print(\"Error: Please enter valid numbers.\")\n",
        "\n",
        "def main():\n",
        "    while True:\n",
        "        try:\n",
        "            rows = int(input(\"Enter number of rows: \"))\n",
        "            cols = int(input(\"Enter number of columns: \"))\n",
        "            if rows > 0 and cols > 0:\n",
        "                break\n",
        "            else:\n",
        "                print(\"Error: Both dimensions must be greater than zero.\")\n",
        "        except ValueError:\n",
        "            print(\"Error: Please enter valid numbers.\")\n",
        "\n",
        "    board = create_board(rows, cols)\n",
        "    display_board(board)\n",
        "\n",
        "    row, col = get_valid_position(rows, cols)\n",
        "    board[row][col] = 'T'\n",
        "\n",
        "    print(\"\\nFinal Board with Treasure:\")\n",
        "    display_board(board)\n",
        "\n",
        "main()"
      ],
      "metadata": {
        "colab": {
          "base_uri": "https://localhost:8080/"
        },
        "id": "8ORXKBvN9DE5",
        "outputId": "940facc9-d798-4aea-e12d-d61c3542988a"
      },
      "execution_count": 3,
      "outputs": [
        {
          "output_type": "stream",
          "name": "stdout",
          "text": [
            "Enter number of rows: 4\n",
            "Enter number of columns: 4\n",
            "* * * *\n",
            "* * * *\n",
            "* * * *\n",
            "* * * *\n",
            "Enter the row (0 to 3): 2\n",
            "Enter the column (0 to 3): 1\n",
            "\n",
            "Final Board with Treasure:\n",
            "* * * *\n",
            "* * * *\n",
            "* T * *\n",
            "* * * *\n"
          ]
        }
      ]
    },
    {
      "cell_type": "markdown",
      "source": [
        "**Email extractor**"
      ],
      "metadata": {
        "id": "3GjwG9at-Vua"
      }
    },
    {
      "cell_type": "code",
      "source": [
        "import re\n",
        "\n",
        "def extract_emails(text: str) -> list:\n",
        "    \"\"\"Extracts all valid email addresses from the given text.\"\"\"\n",
        "    pattern = r'\\b[A-Za-z0-9._%+-]+@[A-Za-z0-9.-]+\\.[A-Za-z]{2,}\\b'\n",
        "    return re.findall(pattern, text)\n",
        "\n",
        "email_text_1 = \"Contact us at support@example.com or at helpdesk@mysite.org.\"\n",
        "email_text_2 = \"Contact us at sup..port@example.com or at helpdesk@mysite.org.\"\n",
        "\n",
        "print(extract_emails(email_text_1))\n",
        "print(extract_emails(email_text_2))"
      ],
      "metadata": {
        "colab": {
          "base_uri": "https://localhost:8080/"
        },
        "id": "_qh0u6pV-ab0",
        "outputId": "e4b5701c-141e-46ab-a918-369cfa225654"
      },
      "execution_count": 4,
      "outputs": [
        {
          "output_type": "stream",
          "name": "stdout",
          "text": [
            "['support@example.com', 'helpdesk@mysite.org']\n",
            "['sup..port@example.com', 'helpdesk@mysite.org']\n"
          ]
        }
      ]
    },
    {
      "cell_type": "markdown",
      "source": [
        "**Party manager using list**"
      ],
      "metadata": {
        "id": "YFELFh0yAiEh"
      }
    },
    {
      "cell_type": "code",
      "source": [
        "def display_guests(guest_list):\n",
        "    print(\"Current Guests:\", guest_list)\n",
        "\n",
        "def add_guest(guest_list, name):\n",
        "    guest_list.append(name)\n",
        "    print(f\"{name} has been added.\")\n",
        "\n",
        "def remove_guest(guest_list, name):\n",
        "    if name in guest_list:\n",
        "        guest_list.remove(name)\n",
        "        print(f\"{name} has been removed.\")\n",
        "    else:\n",
        "        print(f\"{name} is not on the list.\")\n",
        "\n",
        "def main():\n",
        "    guests = []\n",
        "\n",
        "    while True:\n",
        "        print(\"\\n1. Add Guest\")\n",
        "        print(\"2. Remove Guest\")\n",
        "        print(\"3. Display Guests\")\n",
        "        print(\"4. Exit\")\n",
        "\n",
        "        choice = input(\"Choose an option: \")\n",
        "\n",
        "        if choice == \"1\":\n",
        "            name = input(\"Enter guest name: \")\n",
        "            add_guest(guests, name)\n",
        "        elif choice == \"2\":\n",
        "            name = input(\"Enter guest name to remove: \")\n",
        "            remove_guest(guests, name)\n",
        "        elif choice == \"3\":\n",
        "            display_guests(guests)\n",
        "        elif choice == \"4\":\n",
        "            print(\"Exiting...\")\n",
        "            break\n",
        "        else:\n",
        "            print(\"Invalid option. Try again.\")\n",
        "\n",
        "main()"
      ],
      "metadata": {
        "colab": {
          "base_uri": "https://localhost:8080/"
        },
        "id": "1afJ_cdrCkav",
        "outputId": "ee13fbf7-83ae-4511-c626-f0b8517c1d32"
      },
      "execution_count": 6,
      "outputs": [
        {
          "output_type": "stream",
          "name": "stdout",
          "text": [
            "\n",
            "1. Add Guest\n",
            "2. Remove Guest\n",
            "3. Display Guests\n",
            "4. Exit\n",
            "Choose an option: 1\n",
            "Enter guest name: Eda Nur\n",
            "Eda Nur has been added.\n",
            "\n",
            "1. Add Guest\n",
            "2. Remove Guest\n",
            "3. Display Guests\n",
            "4. Exit\n",
            "Choose an option: 3\n",
            "Current Guests: ['Eda Nur']\n",
            "\n",
            "1. Add Guest\n",
            "2. Remove Guest\n",
            "3. Display Guests\n",
            "4. Exit\n",
            "Choose an option: 4\n",
            "Exiting...\n"
          ]
        }
      ]
    },
    {
      "cell_type": "markdown",
      "source": [
        "**Advanced party guest manager**"
      ],
      "metadata": {
        "id": "BHulVKM1DGrw"
      }
    },
    {
      "cell_type": "code",
      "source": [
        "def display_guests(guests):\n",
        "    for name, (age, email) in sorted(guests.items(), key=lambda x: x[1][0]):\n",
        "        print(f\"{name} (Age: {age}) - Email: {email}\")\n",
        "\n",
        "def add_guest(guests, name, age, email):\n",
        "    if name in guests:\n",
        "        print(f\"{name} is already on the guest list. Choose to update details or skip.\")\n",
        "    else:\n",
        "        guests[name] = (age, email)\n",
        "        print(f\"{name} has been added.\")\n",
        "\n",
        "def remove_guest(guests, name):\n",
        "    if name in guests:\n",
        "        del guests[name]\n",
        "        print(f\"{name} has been removed.\")\n",
        "    else:\n",
        "        print(f\"{name} is not on the list.\")\n",
        "\n",
        "def get_guest_info(guests, name):\n",
        "    if name in guests:\n",
        "        age, email = guests[name]\n",
        "        return f\"{name} (Age: {age}) is coming to the party! Email: {email}\"\n",
        "    else:\n",
        "        return f\"{name} is not on the guest list.\"\n",
        "\n",
        "def main():\n",
        "    guests = {\n",
        "        \"Alice\": (28, \"alice@email.com\"),\n",
        "        \"Bob\": (35, \"bob@email.com\"),\n",
        "        \"Charlie\": (30, \"charlie@email.com\")\n",
        "    }\n",
        "\n",
        "    add_guest(guests, \"David\", 22, \"david@email.com\")\n",
        "    remove_guest(guests, \"Bob\")\n",
        "\n",
        "    while True:\n",
        "        print(\"\\n1. Add Guest\")\n",
        "        print(\"2. Remove Guest\")\n",
        "        print(\"3. Display Guests\")\n",
        "        print(\"4. Get Guest Info\")\n",
        "        print(\"5. Guest Count\")\n",
        "        print(\"6. Exit\")\n",
        "\n",
        "        choice = input(\"Choose an option: \")\n",
        "\n",
        "        if choice == \"1\":\n",
        "            name = input(\"Enter guest name: \")\n",
        "            age = int(input(\"Enter guest age: \"))\n",
        "            email = input(\"Enter guest email: \")\n",
        "            add_guest(guests, name, age, email)\n",
        "        elif choice == \"2\":\n",
        "            name = input(\"Enter guest name to remove: \")\n",
        "            remove_guest(guests, name)\n",
        "        elif choice == \"3\":\n",
        "            display_guests(guests)\n",
        "        elif choice == \"4\":\n",
        "            name = input(\"Enter guest name: \")\n",
        "            print(get_guest_info(guests, name))\n",
        "        elif choice == \"5\":\n",
        "            print(f\"Total guests: {len(guests)}\")\n",
        "        elif choice == \"6\":\n",
        "            print(\"Exiting...\")\n",
        "            break\n",
        "        else:\n",
        "            print(\"Invalid option. Try again.\")\n",
        "\n",
        "main()"
      ],
      "metadata": {
        "colab": {
          "base_uri": "https://localhost:8080/"
        },
        "id": "p3AcW9OTDVeT",
        "outputId": "547e1656-a860-4cbe-9e07-116f2d6e31dc"
      },
      "execution_count": 8,
      "outputs": [
        {
          "output_type": "stream",
          "name": "stdout",
          "text": [
            "David has been added.\n",
            "Bob has been removed.\n",
            "\n",
            "1. Add Guest\n",
            "2. Remove Guest\n",
            "3. Display Guests\n",
            "4. Get Guest Info\n",
            "5. Guest Count\n",
            "6. Exit\n",
            "Choose an option: 1\n",
            "Enter guest name: Eda Nur\n",
            "Enter guest age: 35\n",
            "Enter guest email: Edanur@gmail.com\n",
            "Eda Nur has been added.\n",
            "\n",
            "1. Add Guest\n",
            "2. Remove Guest\n",
            "3. Display Guests\n",
            "4. Get Guest Info\n",
            "5. Guest Count\n",
            "6. Exit\n",
            "Choose an option: 3\n",
            "David (Age: 22) - Email: david@email.com\n",
            "Alice (Age: 28) - Email: alice@email.com\n",
            "Charlie (Age: 30) - Email: charlie@email.com\n",
            "Eda Nur (Age: 35) - Email: Edanur@gmail.com\n",
            "\n",
            "1. Add Guest\n",
            "2. Remove Guest\n",
            "3. Display Guests\n",
            "4. Get Guest Info\n",
            "5. Guest Count\n",
            "6. Exit\n",
            "Choose an option: 6\n",
            "Exiting...\n"
          ]
        }
      ]
    }
  ]
}